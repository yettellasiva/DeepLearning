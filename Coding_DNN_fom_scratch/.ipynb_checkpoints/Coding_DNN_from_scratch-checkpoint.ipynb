{
 "cells": [
  {
   "cell_type": "markdown",
   "metadata": {
    "colab_type": "text",
    "id": "b58owdQGyodZ"
   },
   "source": [
    "### Building DNN from scratch for Classification\n",
    "\n",
    "This notebook is coded as a part of learning while taking Deeplearning.ai specialization course"
   ]
  },
  {
   "cell_type": "markdown",
   "metadata": {
    "colab_type": "text",
    "id": "lW24IBxT81Ub"
   },
   "source": [
    "### Importing libraries"
   ]
  },
  {
   "cell_type": "code",
   "execution_count": 1,
   "metadata": {
    "colab": {},
    "colab_type": "code",
    "id": "OQ8I82jO8inf"
   },
   "outputs": [],
   "source": [
    "import numpy as np\n",
    "import matplotlib.pyplot as plt"
   ]
  },
  {
   "cell_type": "markdown",
   "metadata": {
    "colab_type": "text",
    "id": "P6PNTX8N9BzL"
   },
   "source": [
    "#### Initialize parameters W, b\n",
    "\n",
    "Weight parameters are initialized with small random values.\n",
    "\n",
    "Usage: init_parameters(a)\n",
    "\n",
    "where a is an array of size of layers including input, hidden & output layers"
   ]
  },
  {
   "cell_type": "code",
   "execution_count": 2,
   "metadata": {
    "colab": {},
    "colab_type": "code",
    "id": "QtvMMmma8cNB"
   },
   "outputs": [],
   "source": [
    "def init_parameters(layers_size,factor):\n",
    "  np.random.seed(3)\n",
    "  parameters={}\n",
    "  for i in range(1,len(layers_size)):\n",
    "    parameters['W'+str(i)]=np.random.randn(layers_size[i],layers_size[i-1])*np.sqrt(2/layers_size[i])*factor\n",
    "    parameters['b'+str(i)]=np.zeros((layers_size[i],1))\n",
    "  return parameters"
   ]
  },
  {
   "cell_type": "markdown",
   "metadata": {
    "colab_type": "text",
    "id": "4Mw2ikDxATT-"
   },
   "source": [
    "#### Forward Propagation\n",
    "Usage: act_func is an array of activation functions refering to hidden and output layers. Example: ['ReLU', 'Tanh', 'Sigmoid'] \n",
    "\n",
    "Supported functions: LReLU, Tanh, Sigmoid, Linear, ReLU (default)"
   ]
  },
  {
   "cell_type": "code",
   "execution_count": 3,
   "metadata": {
    "colab": {},
    "colab_type": "code",
    "id": "nXcfzKt290k4"
   },
   "outputs": [],
   "source": [
    "def forward_prop(X_in,param,act_func):\n",
    "  L = len(act_func)\n",
    "  cache = {}\n",
    "  cache['A0']=X_in\n",
    "  assert(len(param.keys())/2==L)\n",
    "  for i in range(1,L+1):\n",
    "    cache['Z'+str(i)] = np.dot(param['W'+str(i)],cache['A'+str(i-1)])+param['b'+str(i)]\n",
    "    cache['A'+str(i)] = activation(act_func[i-1],cache['Z'+str(i)])\n",
    "    assert(cache['Z'+str(i)].shape[0]==param['W'+str(i)].shape[0])\n",
    "    assert(cache['Z'+str(i)].shape[1]==cache['A'+str(i-1)].shape[1])\n",
    "  return cache\n",
    "    \n",
    "#Activation Functions are defined as follows\n",
    "  \n",
    "relu = lambda t: max(0,t)\n",
    "ReLU_func = np.vectorize(relu,otypes=[np.float64]) \n",
    "\n",
    "lrelu = lambda t: max(0.01*t,t)\n",
    "LReLU_func = np.vectorize(lrelu,otypes=[np.float64])\n",
    "\n",
    "tanh = lambda t: (np.exp(t)-np.exp(-t))/(np.exp(t)+np.exp(-t))\n",
    "Tanh_func = np.vectorize(tanh,otypes=[np.float64]) \n",
    "\n",
    "sigmoid = lambda t:1/(1+np.exp(-t))\n",
    "Sigmoid_func = np.vectorize(sigmoid,otypes=[np.float64])\n",
    "  \n",
    "def activation(func,Z):\n",
    "  if func == 'ReLU':\n",
    "    A = ReLU_func(Z)\n",
    "  elif func == 'Tanh':\n",
    "    A = Tanh_func(Z)\n",
    "  elif func == 'Sigmoid':\n",
    "    A = Sigmoid_func(Z)\n",
    "  elif func == 'LReLU':\n",
    "    A = LReLU_func(Z)\n",
    "  elif func == 'Linear':\n",
    "    A = Z\n",
    "  else:\n",
    "    A = ReLU_func(Z)\n",
    "  return A"
   ]
  },
  {
   "cell_type": "markdown",
   "metadata": {
    "colab_type": "text",
    "id": "YPlIycCtgzvO"
   },
   "source": [
    "#### Computing Cost\n",
    "\n",
    "The function cost function is coded for a binary classification"
   ]
  },
  {
   "cell_type": "code",
   "execution_count": 4,
   "metadata": {
    "colab": {},
    "colab_type": "code",
    "id": "5n_vLuDTxO30"
   },
   "outputs": [],
   "source": [
    "def compute_cost(AL,Y):\n",
    "  assert(AL.shape==Y.shape)\n",
    "  m = Y.shape[1]\n",
    "  cost = -1/m*np.sum(np.multiply(np.log(AL),Y)+np.multiply(np.log(1-AL),1-Y))\n",
    "  assert(np.array([cost]).shape==(1,))\n",
    "  return cost"
   ]
  },
  {
   "cell_type": "markdown",
   "metadata": {
    "colab_type": "text",
    "id": "HeL4bf1kxuEF"
   },
   "source": [
    "#### Back Propagation\n",
    "\n",
    "Computes gradients of parameters W, b for all layers"
   ]
  },
  {
   "cell_type": "code",
   "execution_count": 5,
   "metadata": {
    "colab": {},
    "colab_type": "code",
    "id": "eGQiuUEZSa0N"
   },
   "outputs": [],
   "source": [
    "def back_prop(Y,parameters,cache,act_func):\n",
    "  L = len(act_func)\n",
    "  grad = {}\n",
    "  AL = cache['A'+str(L)]\n",
    "  m = Y.shape[1]\n",
    "  #dAL is computed by taking logistic regressions's cost function\n",
    "  \n",
    "  Y_temp = Y-1\n",
    "  AL_temp = AL-1\n",
    "  grad['dA'+str(L)] = (np.divide(Y_temp,AL_temp)-np.divide(Y,AL))\n",
    "  assert(grad['dA'+str(L)].shape == AL.shape)\n",
    "  \n",
    "  for i in range(L,0,-1):\n",
    "    grad['dZ'+str(i)] = np.multiply(grad['dA'+str(i)],actfunc_derv(cache['Z'+str(i)],act_func[i-1]))\n",
    "    grad['dW'+str(i)] = 1/m*np.dot(grad['dZ'+str(i)],cache['A'+str(i-1)].T)\n",
    "    grad['db'+str(i)] = 1/m*np.sum(grad['dZ'+str(i)],axis=1,keepdims=True)\n",
    "    grad['dA'+str(i-1)] = np.dot(parameters['W'+str(i)].T,grad['dZ'+str(i)])\n",
    "  return grad\n",
    "\n",
    "\n",
    "relu_inv = lambda t: 1 if t>=0 else 0\n",
    "ReLU_inv = np.vectorize(relu_inv,otypes=[np.float64]) \n",
    "\n",
    "lrelu_inv = lambda t: 1 if t>=0 else 0.01\n",
    "LReLU_inv = np.vectorize(lrelu_inv,otypes=[np.float64]) \n",
    "\n",
    "def actfunc_derv(Z,func): # gives activation function's derivative value\n",
    "  if func == 'ReLU':\n",
    "    g_Z = ReLU_inv(Z)\n",
    "  elif func == 'Sigmoid':\n",
    "    a = Sigmoid_func(Z)\n",
    "    g_Z = np.multiply(a,1-a)\n",
    "  elif func == 'LReLU':\n",
    "    g_Z = LReLU_inv(Z)\n",
    "  elif func == 'Tanh':\n",
    "    a = Tanh_func(Z)\n",
    "    g_Z = 1-np.square(a)\n",
    "  elif func == 'Linear':\n",
    "    g_Z = 1\n",
    "  else:\n",
    "    assert(1==0)\n",
    "  return g_Z"
   ]
  },
  {
   "cell_type": "markdown",
   "metadata": {
    "colab_type": "text",
    "id": "RMA7Iph50q0s"
   },
   "source": [
    "#### Update weights"
   ]
  },
  {
   "cell_type": "code",
   "execution_count": 6,
   "metadata": {
    "colab": {},
    "colab_type": "code",
    "id": "t6mXkvMHOgDs"
   },
   "outputs": [],
   "source": [
    "def update_param(parameters,grad,alpha):\n",
    "  L = int(len(parameters.keys())/2)\n",
    "  for i in range(1,L+1):\n",
    "    assert(parameters['W'+str(i)].shape==grad['dW'+str(i)].shape)\n",
    "    parameters['W'+str(i)] = parameters['W'+str(i)] - alpha*grad['dW'+str(i)]\n",
    "    parameters['b'+str(i)] = parameters['b'+str(i)] - alpha*grad['db'+str(i)]\n",
    "  return parameters"
   ]
  },
  {
   "cell_type": "markdown",
   "metadata": {
    "colab_type": "text",
    "id": "ZM8Kk68K0vSj"
   },
   "source": [
    "#### Generating random data for testing algorithm"
   ]
  },
  {
   "cell_type": "code",
   "execution_count": 7,
   "metadata": {
    "colab": {
     "base_uri": "https://localhost:8080/",
     "height": 357
    },
    "colab_type": "code",
    "id": "z5BwhWT7_AxV",
    "outputId": "bd3bc846-eb48-4968-8d34-ff0f46d865b8"
   },
   "outputs": [
    {
     "name": "stdout",
     "output_type": "stream",
     "text": [
      "0.50875\n"
     ]
    },
    {
     "data": {
      "text/plain": [
       "<matplotlib.collections.PathCollection at 0x1616fd2e80>"
      ]
     },
     "execution_count": 7,
     "metadata": {},
     "output_type": "execute_result"
    },
    {
     "data": {
      "image/png": "[encoded data removed]",
      "text/plain": [
       "<Figure size 360x360 with 1 Axes>"
      ]
     },
     "metadata": {
      "needs_background": "light"
     },
     "output_type": "display_data"
    }
   ],
   "source": [
    "size = 800\n",
    "x_train_raw = np.random.randn(2,size)\n",
    "y_train_raw = np.sum(np.square(x_train_raw),axis=0,keepdims=True)<1.41\n",
    "x_test_raw = np.random.randn(2,round(0.3*size))\n",
    "y_test_raw = np.sum(np.square(x_test_raw),axis=0,keepdims=True)<1.41\n",
    "\n",
    "print(np.sum(y_train_raw)/y_train_raw.shape[1])\n",
    "x1 = x_train_raw[0].reshape(1,size)\n",
    "x2 = x_train_raw[1].reshape(1,size)\n",
    "plt.figure(figsize=(5,5))\n",
    "plt.scatter(x1,x2,c=y_train_raw)"
   ]
  },
  {
   "cell_type": "code",
   "execution_count": 8,
   "metadata": {
    "colab": {},
    "colab_type": "code",
    "id": "z5pfv30jnall"
   },
   "outputs": [],
   "source": [
    "def standardize(x_train,x_test,active): #here x has samples as columns and rows are features\n",
    "  if active==True:\n",
    "    mean = np.mean(x_train,axis=1,keepdims=True)\n",
    "    stdev = np.std(x_train,axis=1,keepdims=True)\n",
    "    x_train_std = np.divide((x_train-mean),stdev)\n",
    "    x_test_std = np.divide((x_test-mean),stdev)\n",
    "  else:\n",
    "    x_train_std = x_train\n",
    "    x_test_std = x_test\n",
    "  return x_train_std,x_test_std"
   ]
  },
  {
   "cell_type": "code",
   "execution_count": 9,
   "metadata": {
    "colab": {},
    "colab_type": "code",
    "id": "nDru-lhLKa21"
   },
   "outputs": [],
   "source": [
    "def predict(X_test,param,activation,threshold):\n",
    "  Y_predict = forward_prop(X_test,param,activation)['A'+str(len(activation))]>0.5\n",
    "  return Y_predict\n",
    "\n",
    "def score(Y_predict,Y_actual):\n",
    "  score = np.sum(Y_actual == Y_predict)/Y_actual.shape[1]\n",
    "  return score"
   ]
  },
  {
   "cell_type": "code",
   "execution_count": 10,
   "metadata": {
    "colab": {},
    "colab_type": "code",
    "id": "8htKA5u1Ihw4"
   },
   "outputs": [],
   "source": [
    "#Initializaiton of few variables\n",
    "chk = 0\n",
    "param_cache = {}"
   ]
  },
  {
   "cell_type": "markdown",
   "metadata": {
    "colab_type": "text",
    "id": "Mebw2wRFBlYK"
   },
   "source": [
    "#### Putting everything together"
   ]
  },
  {
   "cell_type": "code",
   "execution_count": 11,
   "metadata": {
    "colab": {},
    "colab_type": "code",
    "id": "UnvER4WrbYrQ"
   },
   "outputs": [],
   "source": [
    "[x_train,x_test] = standardize(x_train_raw,x_test_raw,active=False)\n",
    "\n",
    "X = x_train\n",
    "Y = y_train_raw\n",
    "X_test = x_test\n",
    "Y_test = y_test_raw\n",
    "\n",
    "###### INPUTS #######\n",
    "\n",
    "hidden_layers_sizes = [5,3]                  # [2,2,2]-implies 3 hidden layers with 2 units each\n",
    "activation_func = ['ReLU','Tanh','Sigmoid']  # ['ReLU','ReLU','Sigmoid'] means 1st & 2nd hidden layers are ReLU based and last layer is Sigmoid\n",
    "iterations = 1500                             # No of iterations for updating parameters\n",
    "alpha = 0.08                                 # Learning rate\n",
    "factor = 1                                   # factor multiplying init parameters\n",
    "reinit = True                               #\"False\" implies - last run parameters are used, \"True\" implies fresh parameters are initialized\n",
    "\n",
    "#####################\n",
    "\n",
    "assert(len(hidden_layers_sizes)+1 == len(activation_func))\n",
    "L = len(activation_func)\n",
    "layer_size = np.append(hidden_layers_sizes,Y.shape[0])\n",
    "layer_size = np.insert(layer_size,0,X.shape[0])\n",
    "\n",
    "  \n",
    "if reinit == True:\n",
    "  chk = 1\n",
    "else:\n",
    "  chk = chk+1\n",
    "  \n",
    "if chk == 1:    #to avoid reinitializing with random parameters and continue with existing parameters\n",
    "  param = init_parameters(layer_size,factor)\n",
    "  cost = []\n",
    "  cost_test = []\n",
    "  \n",
    "\n",
    "for i in range(iterations):\n",
    "  values = forward_prop(X,param,activation_func)\n",
    "  cost = np.append(cost,compute_cost(values['A'+str(L)],Y))\n",
    "  gradients = back_prop(Y,param,values,activation_func)\n",
    "  param = update_param(param,gradients,alpha)\n",
    "  values_test = forward_prop(X_test,param,activation_func)\n",
    "  cost_test = np.append(cost_test,compute_cost(values_test['A'+str(L)],Y_test))  \n",
    "  \n",
    "param_cache[chk] = param   #stores the parameters at each run of this section "
   ]
  },
  {
   "cell_type": "markdown",
   "metadata": {
    "colab_type": "text",
    "id": "itT0tNajzaC1"
   },
   "source": [
    "Status: The values of gradients are approaching zero in deep NN - Gradient Vanishing problem?\n",
    "\n",
    "The gradients are highly sensitive to the intialization of parameters - I used xavier initialization to solve this"
   ]
  },
  {
   "cell_type": "markdown",
   "metadata": {
    "colab_type": "text",
    "id": "V0Ac87JMW_jt"
   },
   "source": [
    "#### Plotting convergence (cost vs iterations)"
   ]
  },
  {
   "cell_type": "code",
   "execution_count": 12,
   "metadata": {
    "colab": {
     "base_uri": "https://localhost:8080/",
     "height": 312
    },
    "colab_type": "code",
    "id": "r1f-05ms0ViZ",
    "outputId": "5a6c59ea-6a70-4889-ff01-9750bbae6e25"
   },
   "outputs": [
    {
     "data": {
      "text/plain": [
       "Text(0, 0.5, 'Cost')"
      ]
     },
     "execution_count": 12,
     "metadata": {},
     "output_type": "execute_result"
    },
    {
     "data": {
      "image/png": "[encoded data removed]",
      "text/plain": [
       "<Figure size 432x288 with 1 Axes>"
      ]
     },
     "metadata": {
      "needs_background": "light"
     },
     "output_type": "display_data"
    }
   ],
   "source": [
    "plt.plot(cost)\n",
    "plt.plot(cost_test)\n",
    "plt.legend(('Train','Test'))\n",
    "plt.title(\"Cost value\")\n",
    "plt.xlabel('Iterations')\n",
    "plt.ylabel('Cost')"
   ]
  },
  {
   "cell_type": "markdown",
   "metadata": {
    "colab_type": "text",
    "id": "RUG-afNrWgD5"
   },
   "source": [
    "#### Score of algorithm"
   ]
  },
  {
   "cell_type": "code",
   "execution_count": 13,
   "metadata": {
    "colab": {
     "base_uri": "https://localhost:8080/",
     "height": 51
    },
    "colab_type": "code",
    "id": "bopSR5iTF0Kj",
    "outputId": "e53c4028-5aa0-4c11-83f7-af1ce11b2a1e"
   },
   "outputs": [
    {
     "name": "stdout",
     "output_type": "stream",
     "text": [
      "Prediction score on train set is  0.98\n",
      "Prediction score on test set is  0.971\n"
     ]
    }
   ],
   "source": [
    "Y_pred = predict(X,param,activation_func,0.5)\n",
    "score_value = score(Y_pred,Y)\n",
    "print(\"Prediction score on train set is \",round(score_value,3))\n",
    "\n",
    "Y_pred = predict(X_test,param,activation_func,0.5)\n",
    "score_value = score(Y_pred,Y_test)\n",
    "print(\"Prediction score on test set is \",round(score_value,3))"
   ]
  },
  {
   "cell_type": "markdown",
   "metadata": {
    "colab_type": "text",
    "id": "YVALR5KBWwm9"
   },
   "source": [
    "#### Plot the decision boundary"
   ]
  },
  {
   "cell_type": "code",
   "execution_count": 14,
   "metadata": {
    "colab": {},
    "colab_type": "code",
    "id": "NSsRh3SB92EB"
   },
   "outputs": [],
   "source": [
    "def plot_boundary(param,Act_func,xmin,xmax,dx):\n",
    "  x_r = np.arange(xmin,xmax,dx)\n",
    "  x = np.array(np.meshgrid(x_r,x_r)).T.reshape(-1,2).T\n",
    "  y = predict(x,param,Act_func,0.5)\n",
    "  plt.scatter(x[1,],x[0,],c=y[0])"
   ]
  },
  {
   "cell_type": "code",
   "execution_count": 1,
   "metadata": {
    "colab": {
     "base_uri": "https://localhost:8080/",
     "height": 269
    },
    "colab_type": "code",
    "id": "CzHdgT3Q3MBM",
    "outputId": "c3d7bb76-c18f-49cb-f419-6616e598dbc2"
   },
   "outputs": [
    {
     "ename": "NameError",
     "evalue": "name 'plot_boundary' is not defined",
     "output_type": "error",
     "traceback": [
      "\u001b[1;31m---------------------------------------------------------------------------\u001b[0m",
      "\u001b[1;31mNameError\u001b[0m                                 Traceback (most recent call last)",
      "\u001b[1;32m<ipython-input-1-17a58cd80d34>\u001b[0m in \u001b[0;36m<module>\u001b[1;34m\u001b[0m\n\u001b[1;32m----> 1\u001b[1;33m \u001b[0mplot_boundary\u001b[0m\u001b[1;33m(\u001b[0m\u001b[0mparam\u001b[0m\u001b[1;33m,\u001b[0m\u001b[0mactivation_func\u001b[0m\u001b[1;33m,\u001b[0m\u001b[1;33m-\u001b[0m\u001b[1;36m2\u001b[0m\u001b[1;33m,\u001b[0m\u001b[1;36m2\u001b[0m\u001b[1;33m,\u001b[0m\u001b[1;36m0.1\u001b[0m\u001b[1;33m)\u001b[0m\u001b[1;33m\u001b[0m\u001b[1;33m\u001b[0m\u001b[0m\n\u001b[0m\u001b[0;32m      2\u001b[0m \u001b[0mplt\u001b[0m\u001b[1;33m.\u001b[0m\u001b[0mtitle\u001b[0m\u001b[1;33m(\u001b[0m\u001b[1;34m'Boundary made by DNN'\u001b[0m\u001b[1;33m)\u001b[0m\u001b[1;33m\u001b[0m\u001b[1;33m\u001b[0m\u001b[0m\n",
      "\u001b[1;31mNameError\u001b[0m: name 'plot_boundary' is not defined"
     ]
    }
   ],
   "source": [
    "plot_boundary(param,activation_func,-2,2,0.1)\n",
    "plt.title('Boundary made by DNN')"
   ]
  }
 ],
 "metadata": {
  "colab": {
   "collapsed_sections": [
    "b58owdQGyodZ",
    "P6PNTX8N9BzL",
    "4Mw2ikDxATT-",
    "YPlIycCtgzvO",
    "HeL4bf1kxuEF",
    "RMA7Iph50q0s",
    "ZM8Kk68K0vSj"
   ],
   "name": "DNN_from_Scratch.ipynb",
   "provenance": [],
   "version": "0.3.2"
  },
  "kernelspec": {
   "display_name": "Python 3",
   "language": "python",
   "name": "python3"
  },
  "language_info": {
   "codemirror_mode": {
    "name": "ipython",
    "version": 3
   },
   "file_extension": ".py",
   "mimetype": "text/x-python",
   "name": "python",
   "nbconvert_exporter": "python",
   "pygments_lexer": "ipython3",
   "version": "3.7.3"
  }
 },
 "nbformat": 4,
 "nbformat_minor": 1
}
